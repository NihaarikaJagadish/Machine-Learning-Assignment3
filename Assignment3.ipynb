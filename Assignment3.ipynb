{
  "nbformat": 4,
  "nbformat_minor": 0,
  "metadata": {
    "colab": {
      "name": "Assignment3.ipynb",
      "provenance": [],
      "collapsed_sections": [],
      "authorship_tag": "ABX9TyNJYDPz6NOCHu0xSS0gO0SG",
      "include_colab_link": true
    },
    "kernelspec": {
      "name": "python3",
      "display_name": "Python 3"
    },
    "language_info": {
      "name": "python"
    }
  },
  "cells": [
    {
      "cell_type": "markdown",
      "metadata": {
        "id": "view-in-github",
        "colab_type": "text"
      },
      "source": [
        "<a href=\"https://colab.research.google.com/github/NihaarikaJagadish/Machine-Learning-Assignment3/blob/main/Assignment3.ipynb\" target=\"_parent\"><img src=\"https://colab.research.google.com/assets/colab-badge.svg\" alt=\"Open In Colab\"/></a>"
      ]
    },
    {
      "cell_type": "markdown",
      "metadata": {
        "id": "HG3WLtbB-dR4"
      },
      "source": [
        "Question2.\n"
      ]
    },
    {
      "cell_type": "code",
      "metadata": {
        "colab": {
          "base_uri": "https://localhost:8080/",
          "height": 859
        },
        "id": "ANpbQRry7qOt",
        "outputId": "f32f4951-7d8b-4de8-a7d2-85da6c61cff3"
      },
      "source": [
        "import numpy as np\n",
        "from sklearn.metrics import roc_curve,roc_auc_score\n",
        "import matplotlib.pyplot as plt\n",
        "import sklearn.datasets\n",
        "from sklearn.model_selection import train_test_split\n",
        "%matplotlib inline\n",
        "\n",
        "def initialiseFunction(dimensions): #initialise parameters\n",
        "  w = np.zeros((dimensions,1))\n",
        "  return w\n",
        "\n",
        "def sigmoidFunction(z): #Sigmoid Function\n",
        "  return 1/(1+np.exp(-z))\n",
        "\n",
        "def logisticLossFunction(X,Y,w): #Calculating the logistic loss\n",
        "  z = np.dot(X,w)\n",
        "  h = sigmoidFunction(z)\n",
        "  cost = (-Y * np.log(h) - (1 - Y) * np.log(1 - h)).mean()\n",
        "  dw = np.dot(X.T, (h-Y))/Y.size\n",
        "  return dw, cost\n",
        "\n",
        "def calculateGradientDescentFunction(X,Y,w,learning_rate=0.1, num_iterations=100, print_cost = False): #Calculating the Gradient Descent function\n",
        "  costs = []\n",
        "  for i in range(num_iterations):\n",
        "    dw, cost = logisticLossFunction(X,Y,w)\n",
        "    w = w - learning_rate * dw\n",
        "    if print_cost and (i%1000 == 0):\n",
        "      costs.append(cost)\n",
        "      print(\"Cost after iteration number %i : %f\"%(i,cost))\n",
        "  return w, dw, costs\n",
        "\n",
        "def predictProbability(X,w): #Predict probability  function\n",
        "  z = np.dot(X,w)\n",
        "  Y_prob = sigmoidFunction(z)\n",
        "  return Y_prob\n",
        "\n",
        "def predictClassFunction(X,w,threshold):\n",
        "  y_pred = []\n",
        "  y_prob = predictProbability(X,w)\n",
        "  for i in range(len(y_prob)):\n",
        "    if(y_prob[i] >= threshold):\n",
        "      y_pred.append(1)\n",
        "    else:\n",
        "      y_pred.append(0)\n",
        "  return y_pred\n",
        "\n",
        "#logistic regression classifier\n",
        "def logisticFunction(X_train, Y_train, X_test, Y_test, learning_rate = 0.1, num_iterations = 1, print_cost = False, threshold = 0.5):\n",
        "  w = initialiseFunction(X_train.shape[1]) #initialize the parameters\n",
        "  w,dw,costs = calculateGradientDescentFunction(X_train, Y_train, w, learning_rate, num_iterations, print_cost)\n",
        "  #predict the probabilities and get predicted_y for train.\n",
        "  y_prob_train = predictProbability(X_train, w)\n",
        "  y_prob_test = predictProbability(X_test, w)\n",
        "  #predict the probabilities and get predicted_y for test.\n",
        "  y_pred_train = predictClassFunction(X_train,w,threshold)\n",
        "  y_pred_test = predictClassFunction(X_test,w,threshold)\n",
        "  Y_train = np.squeeze(Y_train)\n",
        "  Y_test = np.squeeze(Y_test)\n",
        "  #calculate the accuracy\n",
        "  print(\"Training accuracy: {}%\".format(100 - np.mean(np.abs(y_pred_train - Y_train)) * 100))\n",
        "  print(\"Testing accuracy: {}%\".format(100 - np.mean(np.abs(y_pred_test - Y_test)) * 100))\n",
        "  #return all of them in a dictionary\n",
        "  result = {\n",
        "      \"costs\" : costs,\n",
        "      \"Y_Prediction_Test\" : y_pred_test,\n",
        "      \"Y_Prediction_Train\" : y_pred_train,\n",
        "      \"Y_prob_train\":y_prob_train,\n",
        "      \"Y_prob_test\":y_prob_test,\n",
        "      \"w\" : w,\n",
        "      \"learning_rate\" : learning_rate,\n",
        "      \"num_iterations\" : num_iterations\n",
        "  }\n",
        "  return result\n",
        "\n",
        "\n",
        "\n",
        "\n",
        "def plottingCurve(results): # Plot learning curve with costs\n",
        "  costs = np.squeeze(results['costs'])\n",
        "  plt.figure( figsize=(10,10))\n",
        "  plt.plot(costs, color=\"red\")\n",
        "  plt.ylabel('Cost')\n",
        "  plt.xlabel('Iterations (per thousands)')\n",
        "  plt.title(\"Learning rate =\" + str(results[\"learning_rate\"]))\n",
        "  plt.show()\n",
        "\n",
        "#Testing the logistic regression function\n",
        "\n",
        "iris = sklearn.datasets.load_iris()\n",
        "X = iris.data[:, :2]\n",
        "y = (iris.target != 0) * 1\n",
        "y = y.reshape((y.shape[0],1))\n",
        "print(\"The dimensions of X is:\",X.shape)\n",
        "print(\"The dimensions of Y is:\",y.shape)\n",
        "# print(np.squeeze(y))\n",
        "\n",
        "\n",
        "X_train, X_test, Y_train, Y_test = train_test_split(X, y, test_size = 0.33, random_state = 0)\n",
        "d = logisticFunction(X_train, Y_train, X_test, Y_test, 0.00001,  10000, True)\n",
        "plottingCurve(d)"
      ],
      "execution_count": 1,
      "outputs": [
        {
          "output_type": "stream",
          "name": "stdout",
          "text": [
            "The dimensions of X is: (150, 2)\n",
            "The dimensions of Y is: (150, 1)\n",
            "Cost after iteration number 0 : 0.693147\n",
            "Cost after iteration number 1000 : 0.677959\n",
            "Cost after iteration number 2000 : 0.665700\n",
            "Cost after iteration number 3000 : 0.655777\n",
            "Cost after iteration number 4000 : 0.647715\n",
            "Cost after iteration number 5000 : 0.641135\n",
            "Cost after iteration number 6000 : 0.635739\n",
            "Cost after iteration number 7000 : 0.631289\n",
            "Cost after iteration number 8000 : 0.627595\n",
            "Cost after iteration number 9000 : 0.624507\n",
            "Training accuracy: 66.0%\n",
            "Testing accuracy: 68.0%\n"
          ]
        },
        {
          "output_type": "display_data",
          "data": {
            "image/png": "[encoded data removed]",
            "text/plain": [
              "<Figure size 720x720 with 1 Axes>"
            ]
          },
          "metadata": {
            "needs_background": "light"
          }
        }
      ]
    },
    {
      "cell_type": "markdown",
      "metadata": {
        "id": "Ai2i4sku-mcr"
      },
      "source": [
        "Question3."
      ]
    },
    {
      "cell_type": "code",
      "metadata": {
        "colab": {
          "base_uri": "https://localhost:8080/",
          "height": 1000
        },
        "id": "NYh7wYz77uoA",
        "outputId": "17e6557a-0836-42c4-fef8-75ee5b44da27"
      },
      "source": [
        "from sklearn.metrics import roc_curve,roc_auc_score\n",
        "import matplotlib.pyplot as plt\n",
        "%matplotlib inline\n",
        "x = np.linspace(0, 1, num=100)\n",
        "\n",
        "def confusionMatrixFunction(actual, predicted, printResult = False):\n",
        "  TP, FP, TN, FN = 0,0,0,0\n",
        "  for a,p in zip(actual,predicted) :\n",
        "    if ((a == p) and a == 1): #True Positive\n",
        "      TP+=1\n",
        "    if ((a == p) and a == 0): #True Negative\n",
        "      TN+=1\n",
        "    if ((a != p) and a == 1): #False Negative\n",
        "      FN+=1\n",
        "    if ((a != p) and a == 0): #False Positives\n",
        "      FP+=1\n",
        "  if(printResult):\n",
        "    print('--- Confusion Matrix is as below ---')\n",
        "    print('- Predicted = yes ---- Predicted = No --------')\n",
        "    print('Actual - Yes : ',TP , ' | FN : ', FN)\n",
        "    print('Actual - No  : ',FP , ' | TN : ', TN)\n",
        "  return {'TP':TP,'FN':FN,'FP':FP,'TN':TN}\n",
        "\n",
        "\n",
        "probs = d['Y_prob_train']\n",
        "probs = np.squeeze(probs)\n",
        "y_preds = d['Y_Prediction_Train']\n",
        "y_original = np.squeeze(Y_train)\n",
        "confusionMatrixFunction(y_original, y_preds,True)\n",
        "def calculateThresholdFunction(actuals, scores, threshold=0.5, positive_label=1):\n",
        "    tp=fp=tn=fn=0\n",
        "    for score,actual in zip(scores,actuals):\n",
        "        if score >= threshold:                     # predicted positive \n",
        "            if actual == positive_label:           # actual positive \n",
        "                tp += 1\n",
        "            else:                                  # actual negative              \n",
        "                fp += 1          \n",
        "        else:                                      # predicted negative \n",
        "            if not (actual == positive_label):     # actual negative \n",
        "                tn += 1                          \n",
        "            else:                                  # actual positive \n",
        "                fn += 1\n",
        "    return {'TP':tp,'FN':fn,'FP':fp,'TN':tn}\n",
        "calculateThresholdFunction(y_original, probs,0.5,1)\n",
        "\n",
        "\n",
        "def plotROCFunction(Y,Yhat,probs):\n",
        "  fig, ax = plt.subplots(1,1, figsize=(12,10))\n",
        "  TPR = dict()\n",
        "  FPR = dict()\n",
        "  # generate thresholds over score domain \n",
        "  low = min(probs)\n",
        "  high = max(probs)\n",
        "  mid = (low+high)/2\n",
        "  FPR_list, TPR_list, thresholds = roc_curve(y_original, probs)\n",
        "  auc = roc_auc_score(y_original, probs)\n",
        "  #Plotting final ROC curve\n",
        "  ax.plot(FPR_list, TPR_list, color='red')\n",
        "  ax.set_title(\"ROC Curve\", fontsize=15)\n",
        "  ax.set_ylabel('True Positive Rate', fontsize=15)\n",
        "  ax.set_xlabel('False Positive Rate', fontsize=15)\n",
        "  ax.grid()\n",
        "  ax.legend([\"AUC=%.3f\"%auc])\n",
        "  fig.show()\n",
        "\n",
        "plotROCFunction(y_original,y_preds,probs)\n",
        "\n",
        "def plotROCCurve(y_original, probs):\n",
        "  title = 'ROC Curve for Logistic Regression'\n",
        "  label = 'None'\n",
        "  fpr, tpr, thresholds = roc_curve(y_original, probs) # calculate the ROC score\n",
        "  print('probs',len(np.squeeze(probs)))\n",
        "  print('Thresholds : ',len(thresholds))\n",
        "  print('False Positive Rates: ')\n",
        "  for eachValue in fpr:\n",
        "      print(eachValue)\n",
        "  print('True Positive Rates: ')\n",
        "  for eachValue in tpr:\n",
        "      print(eachValue)\n",
        "#   print('True Positive Rate: ',tpr)\n",
        "  print('AUC Score ({}): {:.2f} '.format(title, roc_auc_score(y_original, probs)))    \n",
        "  label = 'AUC Score ({}): {:.2f} '.format(title, roc_auc_score(y_original, probs))\n",
        "  # plotting the ROC curve\n",
        "  plt.figure( figsize=(12,10))\n",
        "  plt.plot(fpr, tpr, linewidth=2, label=label, color='r')\n",
        "  plt.plot([0, 1], [0, 1], 'k--')\n",
        "  plt.xlabel('False Positive Rate', fontsize=16)\n",
        "  plt.ylabel('True Positive Rate', fontsize=16)\n",
        "  plt.title('ROC Curve: {}'.format(title), fontsize=16)\n",
        "  plt.legend(loc='upper right')\n",
        "  plt.show()\n",
        "\n",
        "plotROCCurve(y_original,probs)"
      ],
      "execution_count": 2,
      "outputs": [
        {
          "output_type": "stream",
          "name": "stdout",
          "text": [
            "--- Confusion Matrix is as below ---\n",
            "- Predicted = yes ---- Predicted = No --------\n",
            "Actual - Yes :  66  | FN :  0\n",
            "Actual - No  :  34  | TN :  0\n",
            "probs 100\n",
            "Thresholds :  39\n",
            "False Positive Rates: \n",
            "0.0\n",
            "0.0\n",
            "0.0\n",
            "0.0\n",
            "0.0\n",
            "0.0\n",
            "0.0\n",
            "0.0\n",
            "0.0\n",
            "0.0\n",
            "0.0\n",
            "0.058823529411764705\n",
            "0.058823529411764705\n",
            "0.058823529411764705\n",
            "0.058823529411764705\n",
            "0.058823529411764705\n",
            "0.058823529411764705\n",
            "0.08823529411764706\n",
            "0.08823529411764706\n",
            "0.11764705882352941\n",
            "0.11764705882352941\n",
            "0.17647058823529413\n",
            "0.23529411764705882\n",
            "0.23529411764705882\n",
            "0.23529411764705882\n",
            "0.23529411764705882\n",
            "0.2647058823529412\n",
            "0.3235294117647059\n",
            "0.35294117647058826\n",
            "0.4117647058823529\n",
            "0.5588235294117647\n",
            "0.5588235294117647\n",
            "0.5882352941176471\n",
            "0.6470588235294118\n",
            "0.7352941176470589\n",
            "0.7352941176470589\n",
            "0.7647058823529411\n",
            "0.7647058823529411\n",
            "1.0\n",
            "True Positive Rates: \n",
            "0.0\n",
            "0.015151515151515152\n",
            "0.19696969696969696\n",
            "0.22727272727272727\n",
            "0.25757575757575757\n",
            "0.3181818181818182\n",
            "0.36363636363636365\n",
            "0.3939393939393939\n",
            "0.5454545454545454\n",
            "0.5757575757575758\n",
            "0.6515151515151515\n",
            "0.6515151515151515\n",
            "0.6818181818181818\n",
            "0.7424242424242424\n",
            "0.7727272727272727\n",
            "0.803030303030303\n",
            "0.8484848484848485\n",
            "0.8484848484848485\n",
            "0.8636363636363636\n",
            "0.8636363636363636\n",
            "0.8939393939393939\n",
            "0.8939393939393939\n",
            "0.8939393939393939\n",
            "0.9090909090909091\n",
            "0.9393939393939394\n",
            "0.9545454545454546\n",
            "0.9545454545454546\n",
            "0.9545454545454546\n",
            "0.9545454545454546\n",
            "0.9545454545454546\n",
            "0.9545454545454546\n",
            "0.9696969696969697\n",
            "0.9696969696969697\n",
            "0.9696969696969697\n",
            "0.9696969696969697\n",
            "0.9848484848484849\n",
            "0.9848484848484849\n",
            "1.0\n",
            "1.0\n",
            "AUC Score (ROC Curve for Logistic Regression): 0.94 \n"
          ]
        },
        {
          "output_type": "display_data",
          "data": {
            "image/png": "[encoded data removed]",
            "text/plain": [
              "<Figure size 864x720 with 1 Axes>"
            ]
          },
          "metadata": {
            "needs_background": "light"
          }
        },
        {
          "output_type": "display_data",
          "data": {
            "image/png": "[encoded data removed]",
            "text/plain": [
              "<Figure size 864x720 with 1 Axes>"
            ]
          },
          "metadata": {
            "needs_background": "light"
          }
        }
      ]
    },
    {
      "cell_type": "markdown",
      "metadata": {
        "id": "ooBeQ__G-tNd"
      },
      "source": [
        "Question4."
      ]
    },
    {
      "cell_type": "code",
      "metadata": {
        "colab": {
          "base_uri": "https://localhost:8080/",
          "height": 309
        },
        "id": "Df5b3Evp7xgC",
        "outputId": "75a8e20f-a1d2-4b01-e851-9a98bf491f75"
      },
      "source": [
        "from sklearn.datasets import load_breast_cancer\n",
        "from pandas import DataFrame,Series\n",
        "import pandas as pd\n",
        "from sklearn.datasets import load_breast_cancer\n",
        "from pandas import DataFrame,Series\n",
        "import pandas as pd\n",
        "from sklearn.model_selection import train_test_split\n",
        "from sklearn.model_selection import train_test_split\n",
        "from sklearn.linear_model import LogisticRegression\n",
        "import matplotlib.pyplot as plt\n",
        "import seaborn as sns\n",
        "%matplotlib inline\n",
        "from sklearn.metrics import confusion_matrix\n",
        "from sklearn import metrics\n",
        "from sklearn.metrics import roc_auc_score,roc_curve\n",
        "from itertools import cycle\n",
        "import matplotlib.pyplot as plt\n",
        "%matplotlib inline\n",
        "\n",
        "\n",
        "# 0 - I am considering Malignant as 0 \n",
        "# 1 - I am considering Benign as 1\n",
        "dataset = load_breast_cancer()\n",
        "classes = dataset.target_names\n",
        "print(\"The output classes are:\", classes)\n",
        "# print(\"The data description is as below\")\n",
        "# print(data.DESCR)\n",
        "\n",
        "dataFrameForX = DataFrame(dataset['data'],columns=dataset['feature_names']) #creating data frames with features\n",
        "dataFrameForY = DataFrame(dataset['target'],columns=['target'])          #creating dataFrame with Labels\n",
        "dataDF = dataFrameForX.join(dataFrameForY)                                 #Merging the dataframes\n",
        "print(len(dataFrameForY))\n",
        "print(dataset['target'].shape)\n",
        "dataDF.head()\n"
      ],
      "execution_count": 7,
      "outputs": [
        {
          "output_type": "stream",
          "name": "stdout",
          "text": [
            "The output classes are: ['malignant' 'benign']\n",
            "569\n",
            "(569,)\n"
          ]
        },
        {
          "output_type": "execute_result",
          "data": {
            "text/html": [
              "<div>\n",
              "<style scoped>\n",
              "    .dataframe tbody tr th:only-of-type {\n",
              "        vertical-align: middle;\n",
              "    }\n",
              "\n",
              "    .dataframe tbody tr th {\n",
              "        vertical-align: top;\n",
              "    }\n",
              "\n",
              "    .dataframe thead th {\n",
              "        text-align: right;\n",
              "    }\n",
              "</style>\n",
              "<table border=\"1\" class=\"dataframe\">\n",
              "  <thead>\n",
              "    <tr style=\"text-align: right;\">\n",
              "      <th></th>\n",
              "      <th>mean radius</th>\n",
              "      <th>mean texture</th>\n",
              "      <th>mean perimeter</th>\n",
              "      <th>mean area</th>\n",
              "      <th>mean smoothness</th>\n",
              "      <th>mean compactness</th>\n",
              "      <th>mean concavity</th>\n",
              "      <th>mean concave points</th>\n",
              "      <th>mean symmetry</th>\n",
              "      <th>mean fractal dimension</th>\n",
              "      <th>radius error</th>\n",
              "      <th>texture error</th>\n",
              "      <th>perimeter error</th>\n",
              "      <th>area error</th>\n",
              "      <th>smoothness error</th>\n",
              "      <th>compactness error</th>\n",
              "      <th>concavity error</th>\n",
              "      <th>concave points error</th>\n",
              "      <th>symmetry error</th>\n",
              "      <th>fractal dimension error</th>\n",
              "      <th>worst radius</th>\n",
              "      <th>worst texture</th>\n",
              "      <th>worst perimeter</th>\n",
              "      <th>worst area</th>\n",
              "      <th>worst smoothness</th>\n",
              "      <th>worst compactness</th>\n",
              "      <th>worst concavity</th>\n",
              "      <th>worst concave points</th>\n",
              "      <th>worst symmetry</th>\n",
              "      <th>worst fractal dimension</th>\n",
              "      <th>target</th>\n",
              "    </tr>\n",
              "  </thead>\n",
              "  <tbody>\n",
              "    <tr>\n",
              "      <th>0</th>\n",
              "      <td>17.99</td>\n",
              "      <td>10.38</td>\n",
              "      <td>122.80</td>\n",
              "      <td>1001.0</td>\n",
              "      <td>0.11840</td>\n",
              "      <td>0.27760</td>\n",
              "      <td>0.3001</td>\n",
              "      <td>0.14710</td>\n",
              "      <td>0.2419</td>\n",
              "      <td>0.07871</td>\n",
              "      <td>1.0950</td>\n",
              "      <td>0.9053</td>\n",
              "      <td>8.589</td>\n",
              "      <td>153.40</td>\n",
              "      <td>0.006399</td>\n",
              "      <td>0.04904</td>\n",
              "      <td>0.05373</td>\n",
              "      <td>0.01587</td>\n",
              "      <td>0.03003</td>\n",
              "      <td>0.006193</td>\n",
              "      <td>25.38</td>\n",
              "      <td>17.33</td>\n",
              "      <td>184.60</td>\n",
              "      <td>2019.0</td>\n",
              "      <td>0.1622</td>\n",
              "      <td>0.6656</td>\n",
              "      <td>0.7119</td>\n",
              "      <td>0.2654</td>\n",
              "      <td>0.4601</td>\n",
              "      <td>0.11890</td>\n",
              "      <td>0</td>\n",
              "    </tr>\n",
              "    <tr>\n",
              "      <th>1</th>\n",
              "      <td>20.57</td>\n",
              "      <td>17.77</td>\n",
              "      <td>132.90</td>\n",
              "      <td>1326.0</td>\n",
              "      <td>0.08474</td>\n",
              "      <td>0.07864</td>\n",
              "      <td>0.0869</td>\n",
              "      <td>0.07017</td>\n",
              "      <td>0.1812</td>\n",
              "      <td>0.05667</td>\n",
              "      <td>0.5435</td>\n",
              "      <td>0.7339</td>\n",
              "      <td>3.398</td>\n",
              "      <td>74.08</td>\n",
              "      <td>0.005225</td>\n",
              "      <td>0.01308</td>\n",
              "      <td>0.01860</td>\n",
              "      <td>0.01340</td>\n",
              "      <td>0.01389</td>\n",
              "      <td>0.003532</td>\n",
              "      <td>24.99</td>\n",
              "      <td>23.41</td>\n",
              "      <td>158.80</td>\n",
              "      <td>1956.0</td>\n",
              "      <td>0.1238</td>\n",
              "      <td>0.1866</td>\n",
              "      <td>0.2416</td>\n",
              "      <td>0.1860</td>\n",
              "      <td>0.2750</td>\n",
              "      <td>0.08902</td>\n",
              "      <td>0</td>\n",
              "    </tr>\n",
              "    <tr>\n",
              "      <th>2</th>\n",
              "      <td>19.69</td>\n",
              "      <td>21.25</td>\n",
              "      <td>130.00</td>\n",
              "      <td>1203.0</td>\n",
              "      <td>0.10960</td>\n",
              "      <td>0.15990</td>\n",
              "      <td>0.1974</td>\n",
              "      <td>0.12790</td>\n",
              "      <td>0.2069</td>\n",
              "      <td>0.05999</td>\n",
              "      <td>0.7456</td>\n",
              "      <td>0.7869</td>\n",
              "      <td>4.585</td>\n",
              "      <td>94.03</td>\n",
              "      <td>0.006150</td>\n",
              "      <td>0.04006</td>\n",
              "      <td>0.03832</td>\n",
              "      <td>0.02058</td>\n",
              "      <td>0.02250</td>\n",
              "      <td>0.004571</td>\n",
              "      <td>23.57</td>\n",
              "      <td>25.53</td>\n",
              "      <td>152.50</td>\n",
              "      <td>1709.0</td>\n",
              "      <td>0.1444</td>\n",
              "      <td>0.4245</td>\n",
              "      <td>0.4504</td>\n",
              "      <td>0.2430</td>\n",
              "      <td>0.3613</td>\n",
              "      <td>0.08758</td>\n",
              "      <td>0</td>\n",
              "    </tr>\n",
              "    <tr>\n",
              "      <th>3</th>\n",
              "      <td>11.42</td>\n",
              "      <td>20.38</td>\n",
              "      <td>77.58</td>\n",
              "      <td>386.1</td>\n",
              "      <td>0.14250</td>\n",
              "      <td>0.28390</td>\n",
              "      <td>0.2414</td>\n",
              "      <td>0.10520</td>\n",
              "      <td>0.2597</td>\n",
              "      <td>0.09744</td>\n",
              "      <td>0.4956</td>\n",
              "      <td>1.1560</td>\n",
              "      <td>3.445</td>\n",
              "      <td>27.23</td>\n",
              "      <td>0.009110</td>\n",
              "      <td>0.07458</td>\n",
              "      <td>0.05661</td>\n",
              "      <td>0.01867</td>\n",
              "      <td>0.05963</td>\n",
              "      <td>0.009208</td>\n",
              "      <td>14.91</td>\n",
              "      <td>26.50</td>\n",
              "      <td>98.87</td>\n",
              "      <td>567.7</td>\n",
              "      <td>0.2098</td>\n",
              "      <td>0.8663</td>\n",
              "      <td>0.6869</td>\n",
              "      <td>0.2575</td>\n",
              "      <td>0.6638</td>\n",
              "      <td>0.17300</td>\n",
              "      <td>0</td>\n",
              "    </tr>\n",
              "    <tr>\n",
              "      <th>4</th>\n",
              "      <td>20.29</td>\n",
              "      <td>14.34</td>\n",
              "      <td>135.10</td>\n",
              "      <td>1297.0</td>\n",
              "      <td>0.10030</td>\n",
              "      <td>0.13280</td>\n",
              "      <td>0.1980</td>\n",
              "      <td>0.10430</td>\n",
              "      <td>0.1809</td>\n",
              "      <td>0.05883</td>\n",
              "      <td>0.7572</td>\n",
              "      <td>0.7813</td>\n",
              "      <td>5.438</td>\n",
              "      <td>94.44</td>\n",
              "      <td>0.011490</td>\n",
              "      <td>0.02461</td>\n",
              "      <td>0.05688</td>\n",
              "      <td>0.01885</td>\n",
              "      <td>0.01756</td>\n",
              "      <td>0.005115</td>\n",
              "      <td>22.54</td>\n",
              "      <td>16.67</td>\n",
              "      <td>152.20</td>\n",
              "      <td>1575.0</td>\n",
              "      <td>0.1374</td>\n",
              "      <td>0.2050</td>\n",
              "      <td>0.4000</td>\n",
              "      <td>0.1625</td>\n",
              "      <td>0.2364</td>\n",
              "      <td>0.07678</td>\n",
              "      <td>0</td>\n",
              "    </tr>\n",
              "  </tbody>\n",
              "</table>\n",
              "</div>"
            ],
            "text/plain": [
              "   mean radius  mean texture  ...  worst fractal dimension  target\n",
              "0        17.99         10.38  ...                  0.11890       0\n",
              "1        20.57         17.77  ...                  0.08902       0\n",
              "2        19.69         21.25  ...                  0.08758       0\n",
              "3        11.42         20.38  ...                  0.17300       0\n",
              "4        20.29         14.34  ...                  0.07678       0\n",
              "\n",
              "[5 rows x 31 columns]"
            ]
          },
          "metadata": {},
          "execution_count": 7
        }
      ]
    },
    {
      "cell_type": "code",
      "metadata": {
        "colab": {
          "base_uri": "https://localhost:8080/"
        },
        "id": "NH9rbCSD708_",
        "outputId": "f5969551-74b1-4426-f1e7-8532f113fb83"
      },
      "source": [
        "TrainingSetForX, TestingDataForX, TrainingSetForY, TestingDataForY = train_test_split(dataFrameForX, dataFrameForY, test_size = 0.33, random_state = 1) # Getting the testing data. I am considering 33% as Testing data and the 77% as Training data\n",
        "d = logisticFunction(TrainingSetForX, TrainingSetForY, TestingDataForX, TestingDataForY, 0.00001,  10000, True)\n"
      ],
      "execution_count": 8,
      "outputs": [
        {
          "output_type": "stream",
          "name": "stdout",
          "text": [
            "Cost after iteration number 0 : 0.693147\n",
            "Cost after iteration number 1000 : 0.254450\n",
            "Cost after iteration number 2000 : 0.227522\n",
            "Cost after iteration number 3000 : 0.216847\n",
            "Cost after iteration number 4000 : 0.211264\n",
            "Cost after iteration number 5000 : 0.207845\n",
            "Cost after iteration number 6000 : 0.205505\n",
            "Cost after iteration number 7000 : 0.203760\n",
            "Cost after iteration number 8000 : 0.202371\n",
            "Cost after iteration number 9000 : 0.201208\n",
            "Training accuracy: 91.60104986876641%\n",
            "Testing accuracy: 92.55319148936171%\n"
          ]
        }
      ]
    },
    {
      "cell_type": "code",
      "metadata": {
        "id": "hgFm78j1ANaw"
      },
      "source": [
        ""
      ],
      "execution_count": null,
      "outputs": []
    },
    {
      "cell_type": "code",
      "metadata": {
        "colab": {
          "base_uri": "https://localhost:8080/",
          "height": 621
        },
        "id": "tPbpe0K67_6y",
        "outputId": "69867098-6e70-4307-f89b-0cd16c7879fc"
      },
      "source": [
        "plottingCurve(d)"
      ],
      "execution_count": 10,
      "outputs": [
        {
          "output_type": "display_data",
          "data": {
            "image/png": "[encoded data removed]",
            "text/plain": [
              "<Figure size 720x720 with 1 Axes>"
            ]
          },
          "metadata": {
            "needs_background": "light"
          }
        }
      ]
    },
    {
      "cell_type": "code",
      "metadata": {
        "id": "zKSs0T8t8XTL"
      },
      "source": [
        "import matplotlib.pyplot as plt\n",
        "%matplotlib inline\n",
        "\n",
        "def plotROC(Y,Yhat,probs):\n",
        "  fig, ax = plt.subplots(1,1, figsize=(12,10))\n",
        "  TPR = dict()\n",
        "  FPR = dict()\n",
        "  \n",
        "  # generate thresholds over score domain \n",
        "  low = min(probs)\n",
        "  high = max(probs)\n",
        "  mid = (low+high)/2\n",
        "  #print(low)\n",
        "  #print(high)\n",
        "  FPR_list, TPR_list, thresholds = roc_curve(y_original, probs)\n",
        "  auc = roc_auc_score(y_original, probs)\n",
        "  #Plotting final ROC curve\n",
        "  ax.plot(FPR_list, TPR_list, color='red')\n",
        "  #ax.plot(x,x, \"--\")\n",
        "  # ax.plot([0, 1], [0, 1], 'k--')\n",
        "  # ax.set_xlim([0,1])\n",
        "  # ax.set_ylim([0,1])\n",
        "  ax.set_title(\"ROC Curve\", fontsize=15)\n",
        "  ax.set_ylabel('TPR', fontsize=15)\n",
        "  ax.set_xlabel('FPR', fontsize=15)\n",
        "  ax.grid()\n",
        "  ax.legend([\"AUC=%.3f\"%auc])\n",
        "  fig.show()"
      ],
      "execution_count": 22,
      "outputs": []
    },
    {
      "cell_type": "code",
      "metadata": {
        "colab": {
          "base_uri": "https://localhost:8080/",
          "height": 1000
        },
        "id": "ELs4_qhZ8Hpa",
        "outputId": "99454086-a56b-4dd5-a71b-1bdfac2d6622"
      },
      "source": [
        "\n",
        "probs = d['Y_prob_train']\n",
        "y_preds = d['Y_Prediction_Train']\n",
        "y_original = np.squeeze(TrainingSetForY)\n",
        "plotROC(y_original,y_preds,probs)\n",
        "title = 'ROC Curve for Logistic Regression'\n",
        "label = 'None'\n",
        "# calculate the ROC score\n",
        "fpr, tpr, thresholds = roc_curve(y_original, probs)\n",
        "print('False Positive Rates: ')\n",
        "for eachValue in fpr:\n",
        "    print(eachValue)\n",
        "print('True Positive Rates: ')\n",
        "for eachValue in tpr:\n",
        "    print(eachValue)\n",
        "print('AUC Score ({}): {:.2f} '.format(title, roc_auc_score(y_original, probs)))    \n",
        "label = 'AUC Score ({}): {:.2f} '.format(title, roc_auc_score(y_original, probs))\n",
        "# plot the ROC curve\n",
        "plt.figure(figsize=(12,10))\n",
        "plt.plot(fpr, tpr, linewidth=2, label=label, color='red')\n",
        "plt.xlabel('False Positive Rate', fontsize=16)\n",
        "plt.ylabel('True Positive Rate', fontsize=16)\n",
        "plt.title('ROC Curve: {}'.format(title), fontsize=16)\n",
        "plt.legend(loc='upper right')\n",
        "plt.show()"
      ],
      "execution_count": 23,
      "outputs": [
        {
          "output_type": "stream",
          "name": "stdout",
          "text": [
            "False Positive Rates: \n",
            "0.0\n",
            "0.0\n",
            "0.0\n",
            "0.006802721088435374\n",
            "0.006802721088435374\n",
            "0.013605442176870748\n",
            "0.013605442176870748\n",
            "0.02040816326530612\n",
            "0.02040816326530612\n",
            "0.027210884353741496\n",
            "0.027210884353741496\n",
            "0.034013605442176874\n",
            "0.034013605442176874\n",
            "0.04081632653061224\n",
            "0.04081632653061224\n",
            "0.05442176870748299\n",
            "0.05442176870748299\n",
            "0.061224489795918366\n",
            "0.061224489795918366\n",
            "0.06802721088435375\n",
            "0.06802721088435375\n",
            "0.07482993197278912\n",
            "0.07482993197278912\n",
            "0.08163265306122448\n",
            "0.08163265306122448\n",
            "0.08843537414965986\n",
            "0.08843537414965986\n",
            "0.10204081632653061\n",
            "0.10204081632653061\n",
            "0.10884353741496598\n",
            "0.10884353741496598\n",
            "0.1360544217687075\n",
            "0.1360544217687075\n",
            "0.1564625850340136\n",
            "0.1564625850340136\n",
            "0.17006802721088435\n",
            "0.17006802721088435\n",
            "0.1836734693877551\n",
            "0.1836734693877551\n",
            "0.3129251700680272\n",
            "0.3129251700680272\n",
            "1.0\n",
            "True Positive Rates: \n",
            "0.0\n",
            "0.004273504273504274\n",
            "0.4230769230769231\n",
            "0.4230769230769231\n",
            "0.45726495726495725\n",
            "0.45726495726495725\n",
            "0.5512820512820513\n",
            "0.5512820512820513\n",
            "0.5726495726495726\n",
            "0.5726495726495726\n",
            "0.6452991452991453\n",
            "0.6452991452991453\n",
            "0.7564102564102564\n",
            "0.7564102564102564\n",
            "0.811965811965812\n",
            "0.811965811965812\n",
            "0.8205128205128205\n",
            "0.8205128205128205\n",
            "0.8461538461538461\n",
            "0.8461538461538461\n",
            "0.8547008547008547\n",
            "0.8547008547008547\n",
            "0.8632478632478633\n",
            "0.8632478632478633\n",
            "0.9017094017094017\n",
            "0.9017094017094017\n",
            "0.905982905982906\n",
            "0.905982905982906\n",
            "0.9188034188034188\n",
            "0.9188034188034188\n",
            "0.9444444444444444\n",
            "0.9444444444444444\n",
            "0.9487179487179487\n",
            "0.9487179487179487\n",
            "0.9700854700854701\n",
            "0.9700854700854701\n",
            "0.9743589743589743\n",
            "0.9743589743589743\n",
            "0.9957264957264957\n",
            "0.9957264957264957\n",
            "1.0\n",
            "1.0\n",
            "AUC Score (ROC Curve for Logistic Regression): 0.97 \n"
          ]
        },
        {
          "output_type": "display_data",
          "data": {
            "image/png": "[encoded data removed]",
            "text/plain": [
              "<Figure size 864x720 with 1 Axes>"
            ]
          },
          "metadata": {
            "needs_background": "light"
          }
        },
        {
          "output_type": "display_data",
          "data": {
            "image/png": "[encoded data removed]",
            "text/plain": [
              "<Figure size 864x720 with 1 Axes>"
            ]
          },
          "metadata": {
            "needs_background": "light"
          }
        }
      ]
    },
    {
      "cell_type": "code",
      "metadata": {
        "colab": {
          "base_uri": "https://localhost:8080/",
          "height": 532
        },
        "id": "BVWAa3t-9r0X",
        "outputId": "310afe58-2733-4ad2-9016-a24b4ff3f078"
      },
      "source": [
        "#Using Logistic Regression Algorithm to the Training Set Predefined model library\n",
        "classifier = LogisticRegression(random_state = 0)\n",
        "classifier.fit(TrainingSetForX, TrainingSetForY)\n",
        "ScoreForY = classifier.decision_function(TestingDataForX)\n",
        "#test the trained classifer\n",
        "predictedY = classifier.predict(TestingDataForX)\n",
        "predeictedYProb = classifier.predict_proba(TestingDataForX)[::,1]\n",
        " #checking the accuracy\n",
        "\n",
        "cm = confusion_matrix(TestingDataForY, predictedY)\n",
        "#---- plotting confusion matrix\n",
        "class_names=classes\n",
        "fig, ax = plt.subplots()\n",
        "tick_marks = np.arange(len(class_names))\n",
        "plt.xticks(tick_marks, class_names)\n",
        "plt.yticks(tick_marks, class_names)\n",
        "# creating a heatmap\n",
        "sns.heatmap(pd.DataFrame(cm), annot=True, cmap=\"YlGnBu\" ,fmt='g')\n",
        "ax.xaxis.set_label_position(\"top\")\n",
        "plt.tight_layout()\n",
        "plt.title('Confusion matrix', y=1.1)\n",
        "plt.ylabel('Actual label')\n",
        "plt.xlabel('Predicted label')"
      ],
      "execution_count": 41,
      "outputs": [
        {
          "output_type": "stream",
          "name": "stderr",
          "text": [
            "/usr/local/lib/python3.7/dist-packages/sklearn/utils/validation.py:760: DataConversionWarning: A column-vector y was passed when a 1d array was expected. Please change the shape of y to (n_samples, ), for example using ravel().\n",
            "  y = column_or_1d(y, warn=True)\n",
            "/usr/local/lib/python3.7/dist-packages/sklearn/linear_model/_logistic.py:940: ConvergenceWarning: lbfgs failed to converge (status=1):\n",
            "STOP: TOTAL NO. of ITERATIONS REACHED LIMIT.\n",
            "\n",
            "Increase the number of iterations (max_iter) or scale the data as shown in:\n",
            "    https://scikit-learn.org/stable/modules/preprocessing.html\n",
            "Please also refer to the documentation for alternative solver options:\n",
            "    https://scikit-learn.org/stable/modules/linear_model.html#logistic-regression\n",
            "  extra_warning_msg=_LOGISTIC_SOLVER_CONVERGENCE_MSG)\n"
          ]
        },
        {
          "output_type": "execute_result",
          "data": {
            "text/plain": [
              "Text(0.5, 257.44, 'Predicted label')"
            ]
          },
          "metadata": {},
          "execution_count": 41
        },
        {
          "output_type": "display_data",
          "data": {
            "image/png": "[encoded data removed]",
            "text/plain": [
              "<Figure size 432x288 with 2 Axes>"
            ]
          },
          "metadata": {
            "needs_background": "light"
          }
        }
      ]
    },
    {
      "cell_type": "code",
      "metadata": {
        "colab": {
          "base_uri": "https://localhost:8080/"
        },
        "id": "aGQ1j9Ea-BeH",
        "outputId": "24b0b6d5-9c6b-4595-91db-c6a8b6284e06"
      },
      "source": [
        "Y_proba = classifier.predict_proba(TestingDataForX)\n",
        "#print('predicted probabilities',ScoreForY[:])\n",
        "cs_score = classifier.score(TestingDataForX, TestingDataForY)\n",
        "print('The test accuracy is:',cs_score)\n",
        "\n"
      ],
      "execution_count": 24,
      "outputs": [
        {
          "output_type": "stream",
          "name": "stdout",
          "text": [
            "The test accuracy is: 0.9361702127659575\n"
          ]
        }
      ]
    },
    {
      "cell_type": "code",
      "metadata": {
        "colab": {
          "base_uri": "https://localhost:8080/",
          "height": 754
        },
        "id": "PoWUcYkk-MYG",
        "outputId": "fcb8fa58-6464-4028-b22e-6e199a0862a2"
      },
      "source": [
        "title = 'ROC Curve for Logistic Regression'\n",
        "label = 'None'\n",
        "# calculate the ROC score\n",
        "fpr, tpr, thresholds = roc_curve(TestingDataForY, predeictedYProb)\n",
        "print('AUC Score ({}): {:.2f} '.format(title, roc_auc_score(TestingDataForY, predeictedYProb)))    \n",
        "label = 'AUC Score ({}): {:.2f} '.format(title, roc_auc_score(TestingDataForY, predeictedYProb))\n",
        "# plot the ROC curve\n",
        "plt.figure(figsize=(8,12))\n",
        "plt.plot(fpr, tpr, linewidth=2, label=label, color='red')\n",
        "plt.xlabel('False Positive Rate', fontsize=16)\n",
        "plt.ylabel('True Positive Rate', fontsize=16)\n",
        "plt.title('ROC Curve: {}'.format(title), fontsize=16)\n",
        "plt.legend(loc='upper right')\n",
        "plt.show()"
      ],
      "execution_count": 29,
      "outputs": [
        {
          "output_type": "stream",
          "name": "stdout",
          "text": [
            "AUC Score (ROC Curve for Logistic Regression): 0.98 \n"
          ]
        },
        {
          "output_type": "display_data",
          "data": {
            "image/png": "[encoded data removed]",
            "text/plain": [
              "<Figure size 576x864 with 1 Axes>"
            ]
          },
          "metadata": {
            "needs_background": "light"
          }
        }
      ]
    }
  ]
}